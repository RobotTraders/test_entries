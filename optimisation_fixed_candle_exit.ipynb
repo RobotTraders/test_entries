{
 "cells": [
  {
   "cell_type": "markdown",
   "metadata": {
    "id": "dcxb2PQtUE8V"
   },
   "source": [
    "**<h1>Setup and data processing<h1>**\n",
    "\n",
    "---\n",
    "\n"
   ]
  },
  {
   "cell_type": "markdown",
   "metadata": {
    "id": "Ni0tCgXTSQL9"
   },
   "source": [
    "<h3>Package installation<h3>\n"
   ]
  },
  {
   "cell_type": "code",
   "execution_count": null,
   "metadata": {
    "colab": {
     "base_uri": "https://localhost:8080/"
    },
    "id": "FQpoFECiJiLG",
    "outputId": "06f40649-f47b-4164-dbd3-ec74a2f38e73"
   },
   "outputs": [],
   "source": [
    "%pip install pandas\n",
    "%pip install python-binance\n",
    "%pip install ta\n",
    "%pip install matplotlib\n",
    "%pip install numpy"
   ]
  },
  {
   "cell_type": "markdown",
   "metadata": {
    "id": "G3kKKxoL1xNo"
   },
   "source": [
    "<h3>Imports<h3>"
   ]
  },
  {
   "cell_type": "code",
   "execution_count": null,
   "metadata": {
    "id": "ix8j_V3gWOt5"
   },
   "outputs": [],
   "source": [
    "import pandas as pd\n",
    "from binance.client import Client\n",
    "import ta\n",
    "import matplotlib.pyplot as plt\n",
    "import numpy as np\n",
    "from matplotlib import cm"
   ]
  },
  {
   "cell_type": "markdown",
   "metadata": {
    "id": "VLyBtxe4Xn6U"
   },
   "source": [
    "<h3>Specs<h3>"
   ]
  },
  {
   "cell_type": "code",
   "execution_count": null,
   "metadata": {
    "id": "-Ox7M5AMXn6V"
   },
   "outputs": [],
   "source": [
    "name_base = \"ETH\"\n",
    "name_quote = \"USDT\"\n",
    "timeframe = \"1d\"\n",
    "\n",
    "starting_date = \"01 january 2017\"\n",
    "ending_date = None\n",
    "\n",
    "n_bars = 10"
   ]
  },
  {
   "cell_type": "markdown",
   "metadata": {
    "id": "BEmSeIfaXn6V"
   },
   "source": [
    "<h3>Data<h3>"
   ]
  },
  {
   "cell_type": "code",
   "execution_count": null,
   "metadata": {
    "colab": {
     "base_uri": "https://localhost:8080/",
     "height": 417
    },
    "id": "hjRUhkHYXn6W",
    "outputId": "dafad31c-3d5d-4c6f-8b8d-4d4f142b667a"
   },
   "outputs": [],
   "source": [
    "# download the coin info\n",
    "symbol = name_base+name_quote\n",
    "info = Client().get_historical_klines(symbol, timeframe, starting_date)\n",
    "# info = Client(tld='us').get_historical_klines(symbol, timeframe, starting_date) # if in US or Japan.\n",
    "\n",
    "# storing it into a pandas data frame\n",
    "data_dl = pd.DataFrame(info, columns = ['timestamp', 'open', 'high', 'low', 'close', 'volume', 'close_time', 'quote_av', 'trades', 'tb_base_av', 'tb_quote_av', 'ignore' ])\n",
    "\n",
    "# keeping only the necessary columns\n",
    "data_dl.drop(columns=data_dl.columns.difference(['timestamp', 'open', 'high', 'low', 'close']), inplace=True)\n",
    "\n",
    "# formating the numbers\n",
    "data_dl['timestamp'] = pd.to_datetime(data_dl['timestamp'], unit='ms')\n",
    "data_dl['open'] = pd.to_numeric(data_dl['open'])\n",
    "data_dl['high'] = pd.to_numeric(data_dl['high'])\n",
    "data_dl['low'] = pd.to_numeric(data_dl['low'])\n",
    "data_dl['close'] = pd.to_numeric(data_dl['close'])\n",
    "data_dl"
   ]
  },
  {
   "cell_type": "markdown",
   "metadata": {
    "id": "spLsnfE7VPXd"
   },
   "source": [
    "**<h1>Optimisation<h1>**\n",
    "\n",
    "\n",
    "---"
   ]
  },
  {
   "cell_type": "markdown",
   "metadata": {
    "id": "gWPQerOHVZ1-"
   },
   "source": [
    "<h3>Entry condition<h3>"
   ]
  },
  {
   "cell_type": "code",
   "execution_count": null,
   "metadata": {
    "id": "XigXi4AQXn6f"
   },
   "outputs": [],
   "source": [
    "def entry(row):\n",
    "    return row['macd_hist'] > 0"
   ]
  },
  {
   "cell_type": "markdown",
   "metadata": {
    "id": "l47iU_h7Vjyy"
   },
   "source": [
    "<h3>Loop<h3>"
   ]
  },
  {
   "cell_type": "code",
   "execution_count": null,
   "metadata": {
    "id": "OhFGynkSXn6f"
   },
   "outputs": [],
   "source": [
    "initial_wallet = 1000\n",
    "\n",
    "array_s = np.linspace(2, 50, int((50-2)/2+1), dtype=int)\n",
    "array_f = np.linspace(2, 50, int((50-2)/2+1), dtype=int)\n",
    "\n",
    "results = []\n",
    "for s in array_s:\n",
    "    for f in array_f:\n",
    "        if f > s: \n",
    "            \n",
    "            ### indicators\n",
    "            data = data_dl.copy()\n",
    "            MACD = ta.trend.MACD(data['close'], window_slow = s, window_fast = f, window_sign = 9)\n",
    "            data['macd_hist'] = MACD.macd_diff()\n",
    "            data.dropna(inplace=True)\n",
    "\n",
    "            ### initialisations\n",
    "            quote = initial_wallet\n",
    "            base = 0\n",
    "            orders = []\n",
    "            data['wallet'] = ''\n",
    "            ct = 0\n",
    "            buy_ready = True\n",
    "\n",
    "            ### backtest loop\n",
    "            for index, row in data.iterrows():\n",
    "\n",
    "                value = row['close']\n",
    "\n",
    "                if entry(row) and buy_ready:\n",
    "                    ct = index\n",
    "                    base = quote / value\n",
    "                    quote = 0\n",
    "                    buy_ready = False\n",
    "                    orders.append({'side': 'entry', 'wallet': base * value})\n",
    "\n",
    "                # Exit after n_bars\n",
    "                if index == ct + n_bars:\n",
    "                    quote = base * value\n",
    "                    base = 0\n",
    "                    buy_ready = True\n",
    "                    ct = 0\n",
    "                    orders.append({'side': 'exit', 'wallet': quote})\n",
    "\n",
    "           \n",
    "            ### analysing the trades\n",
    "            orders = pd.DataFrame(orders, columns=['side', 'wallet'])\n",
    "            orders['PnL%'] = orders['wallet'].pct_change()*100\n",
    "            orders.at[0, 'PnL%'] = (orders.iloc[0]['wallet']-initial_wallet)/initial_wallet*100\n",
    "            orders.loc[orders['side']=='entry','PnL%'] = None\n",
    "            orders['Win'] = ''\n",
    "            orders.loc[orders['PnL%']>0,'Win'] = 'Yes'\n",
    "            orders.loc[orders['PnL%']<=0,'Win'] = 'No'\n",
    "            if 'No' in orders['Win'].values and 'Yes' in orders['Win'].values:\n",
    "                n_pos = orders['Win'].value_counts()['Yes']\n",
    "                n_neg = orders['Win'].value_counts()['No']\n",
    "                winrate = n_pos / (n_neg + n_pos) * 100\n",
    "            elif 'No' not in orders['Win'].values and 'Yes' not in orders['Win'].values:\n",
    "                winrate = 0\n",
    "            else:\n",
    "                winrate = 100\n",
    "\n",
    "            res = {\n",
    "                  'fastEMA': f,\n",
    "                  'slowEMA': s,\n",
    "                  'winrate': winrate,\n",
    "                  'avg_trades': round(orders['PnL%'].mean(),2),\n",
    "            }\n",
    "            results.append(res)\n",
    "\n",
    "            print(f\"slow EMA = {res['slowEMA']}; fast EMA = {res['fastEMA']}\")\n",
    " \n",
    " "
   ]
  },
  {
   "cell_type": "markdown",
   "metadata": {
    "id": "AiJZXf662rG9"
   },
   "source": [
    "**<h1>Results<h1>**\n",
    "\n",
    "\n",
    "---\n",
    "\n"
   ]
  },
  {
   "cell_type": "code",
   "execution_count": null,
   "metadata": {
    "id": "p05QRxI0ZZQK"
   },
   "outputs": [],
   "source": [
    "# results into a dataframe\n",
    "results = pd.DataFrame(results, columns=['fastEMA', 'slowEMA', 'wallet', 'winrate', 'avg_trades'])\n",
    "\n",
    "# color map for plots\n",
    "cmap_reversed = cm.get_cmap('PuOr_r')\n",
    "\n",
    "# specs\n",
    "obj_x = 'slowEMA'\n",
    "obj_y = 'fastEMA' \n",
    "label_x = 'slow EMA'\n",
    "label_y = 'fast EMA'"
   ]
  },
  {
   "cell_type": "markdown",
   "metadata": {
    "id": "4-TEbCKuYhIT"
   },
   "source": [
    "<h3>Winrate<h3>"
   ]
  },
  {
   "cell_type": "code",
   "execution_count": null,
   "metadata": {
    "id": "r_wIy1YqYoGB"
   },
   "outputs": [],
   "source": [
    "plt.figure(figsize=(8, 6))\n",
    "sc = plt.scatter(results[obj_x], results[obj_y], c=results[\"winrate\"], cmap=cmap_reversed, s=25)\n",
    "plt.xlabel(label_x, fontsize=24)\n",
    "plt.ylabel(label_y, fontsize=24)\n",
    "plt.yticks(fontsize=15)\n",
    "plt.xticks(fontsize=15)\n",
    "cb = plt.colorbar(sc)\n",
    "cb.set_label(label = 'Winrate (%)', fontsize=22)\n",
    "cb.ax.tick_params(labelsize=13)\n",
    "plt.tight_layout()"
   ]
  },
  {
   "cell_type": "markdown",
   "metadata": {
    "id": "U23uWV-UZDAP"
   },
   "source": [
    "<h3>Average profit per trade<h3>"
   ]
  },
  {
   "cell_type": "code",
   "execution_count": null,
   "metadata": {
    "id": "EbHqlXQiZAGC"
   },
   "outputs": [],
   "source": [
    "plt.figure(figsize=(8, 6))\n",
    "sc = plt.scatter(results[obj_x], results[obj_y], c=results[\"avg_trades\"], cmap=cmap_reversed, s=25)\n",
    "plt.xlabel(label_x, fontsize=24)\n",
    "plt.ylabel(label_y, fontsize=24)\n",
    "plt.yticks(fontsize=15)\n",
    "plt.xticks(fontsize=15)\n",
    "cb = plt.colorbar(sc)\n",
    "cb.set_label(label = 'Average Trade Profits (%)', fontsize=22)\n",
    "cb.ax.tick_params(labelsize=13)\n",
    "plt.tight_layout()"
   ]
  },
  {
   "cell_type": "code",
   "execution_count": null,
   "metadata": {},
   "outputs": [],
   "source": []
  }
 ],
 "metadata": {
  "colab": {
   "provenance": []
  },
  "kernelspec": {
   "display_name": "Python 3 (ipykernel)",
   "language": "python",
   "name": "python3"
  },
  "language_info": {
   "codemirror_mode": {
    "name": "ipython",
    "version": 3
   },
   "file_extension": ".py",
   "mimetype": "text/x-python",
   "name": "python",
   "nbconvert_exporter": "python",
   "pygments_lexer": "ipython3",
   "version": "3.10.6"
  }
 },
 "nbformat": 4,
 "nbformat_minor": 1
}
